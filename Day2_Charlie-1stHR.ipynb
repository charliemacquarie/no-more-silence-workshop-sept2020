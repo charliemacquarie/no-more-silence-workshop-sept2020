{
 "cells": [
  {
   "cell_type": "code",
   "execution_count": null,
   "metadata": {},
   "outputs": [],
   "source": [
    "\"\"\"\n",
    "WE'RE LEARNING PYTHON -- DAY 2!\n",
    "\"\"\""
   ]
  },
  {
   "cell_type": "code",
   "execution_count": null,
   "metadata": {},
   "outputs": [],
   "source": [
    "\"\"\"\n",
    "READING AND WRITING TO FILES\n",
    "\"\"\""
   ]
  },
  {
   "cell_type": "code",
   "execution_count": null,
   "metadata": {},
   "outputs": [],
   "source": [
    "# Storing some text that we'll want to save to a file. \n",
    "\n",
    "essential_text = \"We definitely want to remember the way in which communities need agency over their own histories!\""
   ]
  },
  {
   "cell_type": "code",
   "execution_count": null,
   "metadata": {},
   "outputs": [],
   "source": [
    "# Learning how to open a file, and write our essential text to the file, and close the file. \n",
    "\n",
    "with open('essential.txt', 'w') as file:\n",
    "    file.write(essential_text)"
   ]
  },
  {
   "cell_type": "code",
   "execution_count": null,
   "metadata": {},
   "outputs": [],
   "source": [
    "# Learning how to open a file, read the text from it, and store the text in a variable that we can use here in the program\n",
    "\n",
    "with open('SampleText.txt', 'r') as file:\n",
    "    prop_six_four = file.read()"
   ]
  },
  {
   "cell_type": "code",
   "execution_count": null,
   "metadata": {},
   "outputs": [],
   "source": [
    "# Showing what we just read in and stored\n",
    "\n",
    "print(prop_six_four)"
   ]
  },
  {
   "cell_type": "code",
   "execution_count": null,
   "metadata": {},
   "outputs": [],
   "source": [
    "# Checking out the type to find out more about all this stuff\n",
    "\n",
    "type(prop_six_four)"
   ]
  },
  {
   "cell_type": "code",
   "execution_count": null,
   "metadata": {},
   "outputs": [],
   "source": [
    "# Learning how to use the .split() method to split a string, and demonstrating with \" \"\n",
    "\n",
    "prop_list = prop_six_four.split(\" \")"
   ]
  },
  {
   "cell_type": "code",
   "execution_count": null,
   "metadata": {},
   "outputs": [],
   "source": [
    "# Showing what we get out of the split method\n",
    "# Demonstrating that we might want to make this data more uniform\n",
    "\n",
    "print(prop_list)"
   ]
  },
  {
   "cell_type": "code",
   "execution_count": null,
   "metadata": {},
   "outputs": [],
   "source": [
    "# We'll mostly gloss over this part, just saying we have to do this to install the package we're going to import next\n",
    "\n",
    "import sys"
   ]
  },
  {
   "cell_type": "code",
   "execution_count": null,
   "metadata": {},
   "outputs": [],
   "source": [
    "# Instructing folks not to think too much about this code, just know that we're doing it \n",
    "# because it is going and getting the package from the internet and downloading it to our computer\n",
    "# so that we can use the code\n",
    "\n",
    "!{sys.executable} -m pip install nltk"
   ]
  },
  {
   "cell_type": "code",
   "execution_count": null,
   "metadata": {},
   "outputs": [],
   "source": [
    "# Again telling folks mostly ignore this part, but note the import statement! \n",
    "# Highlight that we're learning to import, but that we're doing this \"download\" step just because the\n",
    "# next function that we're calling won't work without it. \n",
    "\n",
    "import nltk.downloader\n",
    "nltk.download('punkt')"
   ]
  },
  {
   "cell_type": "code",
   "execution_count": null,
   "metadata": {},
   "outputs": [],
   "source": [
    "# NOW, truly explaining the details of an import statement. \n",
    "# Showing how we can import specific functions from a library, and explaining why we might do that. \n",
    "\n",
    "from nltk.tokenize import word_tokenize"
   ]
  },
  {
   "cell_type": "code",
   "execution_count": null,
   "metadata": {},
   "outputs": [],
   "source": [
    "# Showing how to get help with a function right in Python if needed\n",
    "\n",
    "help(word_tokenize)"
   ]
  },
  {
   "cell_type": "code",
   "execution_count": null,
   "metadata": {},
   "outputs": [],
   "source": [
    "# Demonstrating how we can use the function we just imported\n",
    "\n",
    "prop_tokenized = word_tokenize(prop_six_four)"
   ]
  },
  {
   "cell_type": "code",
   "execution_count": null,
   "metadata": {},
   "outputs": [],
   "source": [
    "# Showing what the function did\n",
    "# Looking at the difference of these results from the previous. \n",
    "\n",
    "print(prop_tokenized)"
   ]
  },
  {
   "cell_type": "code",
   "execution_count": null,
   "metadata": {},
   "outputs": [],
   "source": [
    "\"\"\"\n",
    "END OF CHARLIE PORTION OF DAY 2!\n",
    "\"\"\""
   ]
  }
 ],
 "metadata": {
  "kernelspec": {
   "display_name": "Python 3",
   "language": "python",
   "name": "python3"
  },
  "language_info": {
   "codemirror_mode": {
    "name": "ipython",
    "version": 3
   },
   "file_extension": ".py",
   "mimetype": "text/x-python",
   "name": "python",
   "nbconvert_exporter": "python",
   "pygments_lexer": "ipython3",
   "version": "3.7.4"
  }
 },
 "nbformat": 4,
 "nbformat_minor": 2
}
